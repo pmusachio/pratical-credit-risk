{
  "nbformat": 4,
  "nbformat_minor": 0,
  "metadata": {
    "colab": {
      "provenance": []
    },
    "kernelspec": {
      "name": "python3",
      "display_name": "Python 3"
    },
    "language_info": {
      "name": "python"
    }
  },
  "cells": [
    {
      "cell_type": "code",
      "source": [
        "loan_amount = 100000                                    # Total loan amount\n",
        "interest_rate = 0.15                                    # Interest rate applied to the loan\n",
        "principal = (loan_amount * interest_rate) + loan_amount # Total amount to be paid for the loan W/ taxes\n",
        "term = 36                                               # Number of loan installments\n",
        "installment = principal / term                          # Value of each installment\n",
        "received = (term - 1) * installment                     # Total amount received so far\n",
        "gains = principal - loan_amount                         # Profit earned from interest\n",
        "losses = principal - received                           # Difference between expected and actual profit\n",
        "operating_costs = 100                                   # Fixed operating costs"
      ],
      "metadata": {
        "id": "NXHQcoJJcV5M"
      },
      "execution_count": null,
      "outputs": []
    },
    {
      "cell_type": "code",
      "execution_count": null,
      "metadata": {
        "colab": {
          "base_uri": "https://localhost:8080/"
        },
        "id": "5ieaPvY2cI5N",
        "outputId": "f3620529-65ba-4c96-b47d-ee4e3d58e074"
      },
      "outputs": [
        {
          "output_type": "stream",
          "name": "stdout",
          "text": [
            "ROI: 11.71%\n"
          ]
        }
      ],
      "source": [
        "roi = (gains - losses - operating_costs) / loan_amount\n",
        "print(f\"ROI: {roi * 100 :.2f}%\")"
      ]
    },
    {
      "cell_type": "code",
      "source": [
        "annualized = (roi / term) * 12\n",
        "print(f\"ROI annualized: {annualized *100 :.2f}%\")"
      ],
      "metadata": {
        "colab": {
          "base_uri": "https://localhost:8080/"
        },
        "id": "UxjMLWm504tF",
        "outputId": "9dbfe25a-1b39-49bc-b64e-4413dc1c0ecb"
      },
      "execution_count": null,
      "outputs": [
        {
          "output_type": "stream",
          "name": "stdout",
          "text": [
            "ROI annualized: 3.90%\n"
          ]
        }
      ]
    },
    {
      "cell_type": "code",
      "source": [
        "credit_scoring = \"B\"                  # Customer risk profile classification\n",
        "\n",
        "pd = 0.14                             # Probability of default for class \"B\" customers\n",
        "ead = 0.2                             # Exposure at default\n",
        "lgd = 0.87                            # Loss given default\n",
        "\n",
        "e_loss = (principal * pd * ead * lgd) # Expected loss"
      ],
      "metadata": {
        "id": "U78xL4NipeNR"
      },
      "execution_count": null,
      "outputs": []
    },
    {
      "cell_type": "code",
      "source": [
        "e_roi = (gains - e_loss - operating_costs) / loan_amount\n",
        "print(f\"expected ROI: {e_roi * 100 :.2f}%\")"
      ],
      "metadata": {
        "colab": {
          "base_uri": "https://localhost:8080/"
        },
        "id": "wqb_53BflSF-",
        "outputId": "381a38e2-82e8-4aab-e370-a44a2b4141aa"
      },
      "execution_count": null,
      "outputs": [
        {
          "output_type": "stream",
          "name": "stdout",
          "text": [
            "expected ROI: 12.10%\n"
          ]
        }
      ]
    }
  ]
}